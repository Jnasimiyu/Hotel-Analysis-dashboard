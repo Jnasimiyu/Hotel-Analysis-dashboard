{
 "cells": [
  {
   "cell_type": "code",
   "execution_count": 2,
   "id": "58efa9ee-b300-44e3-8a60-ebcfaf2e245d",
   "metadata": {},
   "outputs": [],
   "source": [
    "import pandas as pd\n",
    "import numpy as np\n",
    "from datetime import datetime\n",
    "import seaborn as sns\n",
    "import matplotlib.pyplot as plt"
   ]
  },
  {
   "cell_type": "code",
   "execution_count": 3,
   "id": "82e7143f-c69a-4eff-be6a-17fe196f42b0",
   "metadata": {},
   "outputs": [],
   "source": [
    "# Load the dataset\n",
    "file_path = 'Hotel.csv'  \n",
    "df = pd.read_csv(file_path)"
   ]
  },
  {
   "cell_type": "code",
   "execution_count": 4,
   "id": "d02ca588-f974-4e54-8118-c94cd7004d37",
   "metadata": {},
   "outputs": [
    {
     "data": {
      "text/plain": [
       "<bound method NDFrame.head of        ITEM  Quantity  Cost   Mode\n",
       "0    Chapo          3     60  Cash\n",
       "1     Beans         1     30  cash\n",
       "2    Chapo          2     40  Till\n",
       "3    Chapo          3     60  Till\n",
       "4      Chai         1     30  Till\n",
       "..      ...       ...    ...   ...\n",
       "168   Chips         1    100  Till\n",
       "169   chapo         3     60  Till\n",
       "170   beans         2     60  Till\n",
       "171   Chapo         2     40  Cash\n",
       "172   Chapo         2     40  Cash\n",
       "\n",
       "[173 rows x 4 columns]>"
      ]
     },
     "execution_count": 4,
     "metadata": {},
     "output_type": "execute_result"
    }
   ],
   "source": [
    "df.head"
   ]
  },
  {
   "cell_type": "code",
   "execution_count": 5,
   "id": "a79ce4b5-d681-4d5d-928a-aed327887876",
   "metadata": {},
   "outputs": [
    {
     "data": {
      "text/html": [
       "<div>\n",
       "<style scoped>\n",
       "    .dataframe tbody tr th:only-of-type {\n",
       "        vertical-align: middle;\n",
       "    }\n",
       "\n",
       "    .dataframe tbody tr th {\n",
       "        vertical-align: top;\n",
       "    }\n",
       "\n",
       "    .dataframe thead th {\n",
       "        text-align: right;\n",
       "    }\n",
       "</style>\n",
       "<table border=\"1\" class=\"dataframe\">\n",
       "  <thead>\n",
       "    <tr style=\"text-align: right;\">\n",
       "      <th></th>\n",
       "      <th>Quantity</th>\n",
       "      <th>Cost</th>\n",
       "    </tr>\n",
       "  </thead>\n",
       "  <tbody>\n",
       "    <tr>\n",
       "      <th>count</th>\n",
       "      <td>173.000000</td>\n",
       "      <td>173.000000</td>\n",
       "    </tr>\n",
       "    <tr>\n",
       "      <th>mean</th>\n",
       "      <td>1.537572</td>\n",
       "      <td>44.277457</td>\n",
       "    </tr>\n",
       "    <tr>\n",
       "      <th>std</th>\n",
       "      <td>0.872732</td>\n",
       "      <td>20.436328</td>\n",
       "    </tr>\n",
       "    <tr>\n",
       "      <th>min</th>\n",
       "      <td>1.000000</td>\n",
       "      <td>20.000000</td>\n",
       "    </tr>\n",
       "    <tr>\n",
       "      <th>25%</th>\n",
       "      <td>1.000000</td>\n",
       "      <td>30.000000</td>\n",
       "    </tr>\n",
       "    <tr>\n",
       "      <th>50%</th>\n",
       "      <td>1.000000</td>\n",
       "      <td>40.000000</td>\n",
       "    </tr>\n",
       "    <tr>\n",
       "      <th>75%</th>\n",
       "      <td>2.000000</td>\n",
       "      <td>60.000000</td>\n",
       "    </tr>\n",
       "    <tr>\n",
       "      <th>max</th>\n",
       "      <td>6.000000</td>\n",
       "      <td>120.000000</td>\n",
       "    </tr>\n",
       "  </tbody>\n",
       "</table>\n",
       "</div>"
      ],
      "text/plain": [
       "         Quantity       Cost \n",
       "count  173.000000  173.000000\n",
       "mean     1.537572   44.277457\n",
       "std      0.872732   20.436328\n",
       "min      1.000000   20.000000\n",
       "25%      1.000000   30.000000\n",
       "50%      1.000000   40.000000\n",
       "75%      2.000000   60.000000\n",
       "max      6.000000  120.000000"
      ]
     },
     "execution_count": 5,
     "metadata": {},
     "output_type": "execute_result"
    }
   ],
   "source": [
    "df.describe()"
   ]
  },
  {
   "cell_type": "code",
   "execution_count": 6,
   "id": "250a9865-de9f-4277-9a46-bb5221e48ba9",
   "metadata": {},
   "outputs": [
    {
     "data": {
      "text/plain": [
       "False"
      ]
     },
     "execution_count": 6,
     "metadata": {},
     "output_type": "execute_result"
    }
   ],
   "source": [
    "#Checking Missing Values In the dataset\n",
    "df.isnull().values.any()"
   ]
  },
  {
   "cell_type": "code",
   "execution_count": 7,
   "id": "6f2a5e6e-e159-49af-915a-f3b20a98f600",
   "metadata": {},
   "outputs": [
    {
     "name": "stdout",
     "output_type": "stream",
     "text": [
      "Missing values per column:\n",
      "ITEM        0\n",
      "Quantity    0\n",
      "Cost        0\n",
      "Mode        0\n",
      "dtype: int64\n",
      "Number of duplicate rows: 113\n",
      "Data types:\n",
      "ITEM        object\n",
      "Quantity     int64\n",
      "Cost         int64\n",
      "Mode        object\n",
      "dtype: object\n"
     ]
    }
   ],
   "source": [
    "# Check for missing values\n",
    "print(\"Missing values per column:\")\n",
    "print(df.isnull().sum())\n",
    "\n",
    "# Check for duplicate rows\n",
    "print(\"Number of duplicate rows:\", df.duplicated().sum())\n",
    "\n",
    "# Check data types of each column\n",
    "print(\"Data types:\")\n",
    "print(df.dtypes)"
   ]
  },
  {
   "cell_type": "code",
   "execution_count": 8,
   "id": "0c157a4e-a58e-4ee8-a86b-03f13bdf1973",
   "metadata": {},
   "outputs": [],
   "source": [
    "# Drop rows \n",
    "df_cleaned = df.dropna()"
   ]
  },
  {
   "cell_type": "code",
   "execution_count": 9,
   "id": "a8582a56-bfe6-46d6-bbce-792056e668bd",
   "metadata": {},
   "outputs": [],
   "source": [
    "# Remove duplicates\n",
    "df_cleaned = df_cleaned.drop_duplicates()"
   ]
  },
  {
   "cell_type": "code",
   "execution_count": 10,
   "id": "ac61c2fb-84de-4b6b-b3dc-9c5c08ea4188",
   "metadata": {},
   "outputs": [
    {
     "name": "stdout",
     "output_type": "stream",
     "text": [
      "Preview of the cleaned dataset:\n",
      "     ITEM  Quantity  Cost   Mode\n",
      "0  Chapo          3     60  Cash\n",
      "1   Beans         1     30  cash\n",
      "2  Chapo          2     40  Till\n",
      "3  Chapo          3     60  Till\n",
      "4    Chai         1     30  Till\n",
      "\n",
      "Missing values per column after cleaning:\n",
      "ITEM        0\n",
      "Quantity    0\n",
      "Cost        0\n",
      "Mode        0\n",
      "dtype: int64\n",
      "\n",
      "Number of duplicate rows after cleaning:\n",
      "0\n"
     ]
    }
   ],
   "source": [
    "# Inspect the first few rows of the cleaned dataset\n",
    "print(\"Preview of the cleaned dataset:\")\n",
    "print(df_cleaned.head())\n",
    "\n",
    "# Check for remaining missing values\n",
    "print(\"\\nMissing values per column after cleaning:\")\n",
    "print(df_cleaned.isnull().sum())\n",
    "\n",
    "# Verify that duplicates have been removed\n",
    "print(\"\\nNumber of duplicate rows after cleaning:\")\n",
    "print(df_cleaned.duplicated().sum())"
   ]
  },
  {
   "cell_type": "code",
   "execution_count": 11,
   "id": "35ed6443-5314-43db-8a3f-07dec6222cea",
   "metadata": {},
   "outputs": [
    {
     "data": {
      "text/plain": [
       "Index(['ITEM', 'Quantity', 'Cost ', 'Mode'], dtype='object')"
      ]
     },
     "execution_count": 11,
     "metadata": {},
     "output_type": "execute_result"
    }
   ],
   "source": [
    "df_cleaned. columns\n"
   ]
  },
  {
   "cell_type": "code",
   "execution_count": 12,
   "id": "716fed85-bfc9-460c-a8a7-ce07fd053f17",
   "metadata": {},
   "outputs": [
    {
     "name": "stdout",
     "output_type": "stream",
     "text": [
      "Index(['item', 'quantity', 'cost', 'mode'], dtype='object')\n"
     ]
    }
   ],
   "source": [
    "# Clean column names\n",
    "df_cleaned.columns = df_cleaned.columns.str.strip().str.lower()\n",
    "\n",
    "# Display updated column names\n",
    "print(df_cleaned.columns)\n"
   ]
  },
  {
   "cell_type": "code",
   "execution_count": 13,
   "id": "50cdddd3-53e7-4847-8619-2a3781c40ded",
   "metadata": {},
   "outputs": [
    {
     "name": "stdout",
     "output_type": "stream",
     "text": [
      "['Chapo' 'Beans' 'Chai' 'Cha1' 'Soda' 'Mayai' 'Cofee' 'Icecream' 'Mlima'\n",
      " 'Ugali' 'Chips' 'Rice' 'Simbastick']\n"
     ]
    }
   ],
   "source": [
    "# Standardize item names\n",
    "df_cleaned[\"item\"] = df_cleaned[\"item\"].str.strip().str.capitalize()\n",
    "\n",
    "# Display unique item names after cleaning\n",
    "print(df_cleaned[\"item\"].unique())\n"
   ]
  },
  {
   "cell_type": "code",
   "execution_count": 14,
   "id": "aeb28378-6a07-45fe-ba94-74039febd7a8",
   "metadata": {},
   "outputs": [],
   "source": [
    "df_cleaned[\"item\"] = df_cleaned[\"item\"].replace({\"chapati\": \"Chapo\", \"chapo \": \"Chapo\", \"CHAPO\": \"Chapo\"})\n"
   ]
  },
  {
   "cell_type": "code",
   "execution_count": 15,
   "id": "26d8319f-27f0-4843-b92f-5a9b8995b999",
   "metadata": {},
   "outputs": [
    {
     "name": "stdout",
     "output_type": "stream",
     "text": [
      "       item  quantity  cost\n",
      "3     Chapo        58  1160\n",
      "0     Beans        16   540\n",
      "4     Chips         4   320\n",
      "6  Icecream         7   230\n",
      "8     Mlima         3   170\n"
     ]
    }
   ],
   "source": [
    "# Group by item to find total quantity sold and total revenue\n",
    "product_sales = df_cleaned.groupby(\"item\").agg({\"quantity\": \"sum\", \"cost\": \"sum\"}).reset_index()\n",
    "\n",
    "# Sort by total revenue (cost)\n",
    "product_sales = product_sales.sort_values(by=\"cost\", ascending=False)\n",
    "\n",
    "# Display results\n",
    "print(product_sales.head())  # Show top products\n"
   ]
  },
  {
   "cell_type": "code",
   "execution_count": 16,
   "id": "de5150b9-214b-4295-9796-d7c44043aa40",
   "metadata": {},
   "outputs": [
    {
     "name": "stdout",
     "output_type": "stream",
     "text": [
      "Top 5 Best-Selling Products by Quantity:\n",
      "        item  quantity  cost\n",
      "3     Chapo        58  1160\n",
      "0     Beans        16   540\n",
      "6  Icecream         7   230\n",
      "4     Chips         4   320\n",
      "8     Mlima         3   170\n",
      "\n",
      "Top 5 Revenue-Generating Products:\n",
      "        item  quantity  cost\n",
      "3     Chapo        58  1160\n",
      "0     Beans        16   540\n",
      "4     Chips         4   320\n",
      "6  Icecream         7   230\n",
      "8     Mlima         3   170\n"
     ]
    }
   ],
   "source": [
    "# Find the top 5 products by quantity sold\n",
    "top_products = product_sales.nlargest(5, \"quantity\")\n",
    "\n",
    "# Find the top 5 products by revenue\n",
    "top_revenue_products = product_sales.nlargest(5, \"cost\")\n",
    "\n",
    "print(\"Top 5 Best-Selling Products by Quantity:\\n\", top_products)\n",
    "print(\"\\nTop 5 Revenue-Generating Products:\\n\", top_revenue_products)\n"
   ]
  },
  {
   "cell_type": "code",
   "execution_count": 17,
   "id": "a91aab52-986f-44d1-b563-b080fa51715f",
   "metadata": {},
   "outputs": [
    {
     "name": "stdout",
     "output_type": "stream",
     "text": [
      "mode\n",
      "Till    31\n",
      "Cash    29\n",
      "Name: count, dtype: int64\n"
     ]
    }
   ],
   "source": [
    "# Standardize mode column (convert to lowercase and capitalize)\n",
    "df_cleaned[\"mode\"] = df_cleaned[\"mode\"].str.strip().str.capitalize()\n",
    "\n",
    "# Check unique values again\n",
    "print(df_cleaned[\"mode\"].value_counts())\n"
   ]
  },
  {
   "cell_type": "code",
   "execution_count": 18,
   "id": "1bc1bc09-b8bc-410c-82c9-c086508e4b32",
   "metadata": {},
   "outputs": [
    {
     "data": {
      "image/png": "[encoded data removed]",
      "text/plain": [
       "<Figure size 1000x500 with 1 Axes>"
      ]
     },
     "metadata": {},
     "output_type": "display_data"
    }
   ],
   "source": [
    "# Aggregate total quantity sold per item\n",
    "product_sales = df_cleaned.groupby(\"item\")[\"quantity\"].sum().reset_index()\n",
    "\n",
    "# Sort by quantity sold\n",
    "top_products = product_sales.sort_values(by=\"quantity\", ascending=False).head(10)\n",
    "\n",
    "# Plot\n",
    "plt.figure(figsize=(10, 5))\n",
    "sns.barplot(x=\"quantity\", y=\"item\", data=top_products, hue=\"item\", legend=False, palette=\"viridis\")\n",
    "plt.xlabel(\"Total Quantity Sold\")\n",
    "plt.ylabel(\"Product\")\n",
    "plt.title(\"Top 10 Best-Selling Products by Quantity\")\n",
    "plt.show()\n"
   ]
  },
  {
   "cell_type": "code",
   "execution_count": 19,
   "id": "7f6ca88f-630c-4831-9ea1-611e123a98fb",
   "metadata": {},
   "outputs": [
    {
     "data": {
      "image/png": "[encoded data removed]",
      "text/plain": [
       "<Figure size 1000x500 with 1 Axes>"
      ]
     },
     "metadata": {},
     "output_type": "display_data"
    }
   ],
   "source": [
    "# Aggregate total cost (revenue) per item\n",
    "revenue_per_product = df_cleaned.groupby(\"item\")[\"cost\"].sum().reset_index()\n",
    "\n",
    "# Sort by revenue\n",
    "top_revenue = revenue_per_product.sort_values(by=\"cost\", ascending=False).head(10)\n",
    "\n",
    "# Plot\n",
    "plt.figure(figsize=(10, 5))\n",
    "sns.barplot(x=\"cost\", y=\"item\", data=top_revenue, hue=\"item\", legend=False, palette=\"coolwarm\")\n",
    "plt.xlabel(\"Total Revenue (Ksh)\")\n",
    "plt.ylabel(\"Product\")\n",
    "plt.title(\"Top 10 Revenue-Generating Products\")\n",
    "plt.show()\n"
   ]
  },
  {
   "cell_type": "code",
   "execution_count": 20,
   "id": "0a5308da-9356-4f31-baa2-5000847a0d08",
   "metadata": {},
   "outputs": [
    {
     "data": {
      "image/png": "[encoded data removed]",
      "text/plain": [
       "<Figure size 600x600 with 1 Axes>"
      ]
     },
     "metadata": {},
     "output_type": "display_data"
    }
   ],
   "source": [
    "# Count the number of transactions by payment mode\n",
    "payment_counts = df_cleaned[\"mode\"].value_counts()\n",
    "\n",
    "# Plot Pie Chart\n",
    "plt.figure(figsize=(6, 6))\n",
    "plt.pie(payment_counts, labels=payment_counts.index, autopct=\"%1.1f%%\", colors=[\"#ff9999\", \"#66b3ff\"], startangle=90)\n",
    "plt.title(\"Payment Mode Distribution\")\n",
    "plt.show()\n"
   ]
  },
  {
   "cell_type": "code",
   "execution_count": 21,
   "id": "e0c591a7-0cd3-4fb5-9739-3b1f5ffd6c0a",
   "metadata": {},
   "outputs": [
    {
     "name": "stdout",
     "output_type": "stream",
     "text": [
      "Requirement already satisfied: dash in c:\\users\\hp\\anaconda3\\lib\\site-packages (2.18.2)\n",
      "Requirement already satisfied: pandas in c:\\users\\hp\\anaconda3\\lib\\site-packages (2.2.2)\n",
      "Requirement already satisfied: plotly in c:\\users\\hp\\anaconda3\\lib\\site-packages (5.24.1)\n",
      "Requirement already satisfied: Flask<3.1,>=1.0.4 in c:\\users\\hp\\anaconda3\\lib\\site-packages (from dash) (3.0.3)\n",
      "Requirement already satisfied: Werkzeug<3.1 in c:\\users\\hp\\anaconda3\\lib\\site-packages (from dash) (3.0.3)\n",
      "Requirement already satisfied: dash-html-components==2.0.0 in c:\\users\\hp\\anaconda3\\lib\\site-packages (from dash) (2.0.0)\n",
      "Requirement already satisfied: dash-core-components==2.0.0 in c:\\users\\hp\\anaconda3\\lib\\site-packages (from dash) (2.0.0)\n",
      "Requirement already satisfied: dash-table==5.0.0 in c:\\users\\hp\\anaconda3\\lib\\site-packages (from dash) (5.0.0)\n",
      "Requirement already satisfied: importlib-metadata in c:\\users\\hp\\anaconda3\\lib\\site-packages (from dash) (7.0.1)\n",
      "Requirement already satisfied: typing-extensions>=4.1.1 in c:\\users\\hp\\anaconda3\\lib\\site-packages (from dash) (4.11.0)\n",
      "Requirement already satisfied: requests in c:\\users\\hp\\anaconda3\\lib\\site-packages (from dash) (2.32.3)\n",
      "Requirement already satisfied: retrying in c:\\users\\hp\\anaconda3\\lib\\site-packages (from dash) (1.3.4)\n",
      "Requirement already satisfied: nest-asyncio in c:\\users\\hp\\anaconda3\\lib\\site-packages (from dash) (1.6.0)\n",
      "Requirement already satisfied: setuptools in c:\\users\\hp\\anaconda3\\lib\\site-packages (from dash) (75.1.0)\n",
      "Requirement already satisfied: numpy>=1.26.0 in c:\\users\\hp\\anaconda3\\lib\\site-packages (from pandas) (1.26.4)\n",
      "Requirement already satisfied: python-dateutil>=2.8.2 in c:\\users\\hp\\anaconda3\\lib\\site-packages (from pandas) (2.9.0.post0)\n",
      "Requirement already satisfied: pytz>=2020.1 in c:\\users\\hp\\anaconda3\\lib\\site-packages (from pandas) (2024.1)\n",
      "Requirement already satisfied: tzdata>=2022.7 in c:\\users\\hp\\anaconda3\\lib\\site-packages (from pandas) (2023.3)\n",
      "Requirement already satisfied: tenacity>=6.2.0 in c:\\users\\hp\\anaconda3\\lib\\site-packages (from plotly) (8.2.3)\n",
      "Requirement already satisfied: packaging in c:\\users\\hp\\anaconda3\\lib\\site-packages (from plotly) (24.1)\n",
      "Requirement already satisfied: Jinja2>=3.1.2 in c:\\users\\hp\\anaconda3\\lib\\site-packages (from Flask<3.1,>=1.0.4->dash) (3.1.4)\n",
      "Requirement already satisfied: itsdangerous>=2.1.2 in c:\\users\\hp\\anaconda3\\lib\\site-packages (from Flask<3.1,>=1.0.4->dash) (2.2.0)\n",
      "Requirement already satisfied: click>=8.1.3 in c:\\users\\hp\\anaconda3\\lib\\site-packages (from Flask<3.1,>=1.0.4->dash) (8.1.7)\n",
      "Requirement already satisfied: blinker>=1.6.2 in c:\\users\\hp\\anaconda3\\lib\\site-packages (from Flask<3.1,>=1.0.4->dash) (1.6.2)\n",
      "Requirement already satisfied: six>=1.5 in c:\\users\\hp\\anaconda3\\lib\\site-packages (from python-dateutil>=2.8.2->pandas) (1.16.0)\n",
      "Requirement already satisfied: MarkupSafe>=2.1.1 in c:\\users\\hp\\anaconda3\\lib\\site-packages (from Werkzeug<3.1->dash) (2.1.3)\n",
      "Requirement already satisfied: zipp>=0.5 in c:\\users\\hp\\anaconda3\\lib\\site-packages (from importlib-metadata->dash) (3.17.0)\n",
      "Requirement already satisfied: charset-normalizer<4,>=2 in c:\\users\\hp\\anaconda3\\lib\\site-packages (from requests->dash) (3.3.2)\n",
      "Requirement already satisfied: idna<4,>=2.5 in c:\\users\\hp\\anaconda3\\lib\\site-packages (from requests->dash) (3.7)\n",
      "Requirement already satisfied: urllib3<3,>=1.21.1 in c:\\users\\hp\\anaconda3\\lib\\site-packages (from requests->dash) (2.2.3)\n",
      "Requirement already satisfied: certifi>=2017.4.17 in c:\\users\\hp\\anaconda3\\lib\\site-packages (from requests->dash) (2024.12.14)\n",
      "Requirement already satisfied: colorama in c:\\users\\hp\\anaconda3\\lib\\site-packages (from click>=8.1.3->Flask<3.1,>=1.0.4->dash) (0.4.6)\n",
      "Note: you may need to restart the kernel to use updated packages.\n"
     ]
    }
   ],
   "source": [
    "pip install dash pandas plotly\n"
   ]
  },
  {
   "cell_type": "code",
   "execution_count": 22,
   "id": "5e928a2f-6290-4f9f-8d47-dac32afdaac8",
   "metadata": {},
   "outputs": [
    {
     "data": {
      "text/plain": [
       "Index(['item', 'quantity', 'cost', 'mode'], dtype='object')"
      ]
     },
     "execution_count": 22,
     "metadata": {},
     "output_type": "execute_result"
    }
   ],
   "source": [
    "df_cleaned.columns"
   ]
  },
  {
   "cell_type": "code",
   "execution_count": 23,
   "id": "80704e47-f893-4297-ba1f-365d2659c970",
   "metadata": {},
   "outputs": [
    {
     "data": {
      "text/html": [
       "\n",
       "        <iframe\n",
       "            width=\"100%\"\n",
       "            height=\"650\"\n",
       "            src=\"http://127.0.0.1:8050/\"\n",
       "            frameborder=\"0\"\n",
       "            allowfullscreen\n",
       "            \n",
       "        ></iframe>\n",
       "        "
      ],
      "text/plain": [
       "<IPython.lib.display.IFrame at 0x1ebd3420380>"
      ]
     },
     "metadata": {},
     "output_type": "display_data"
    }
   ],
   "source": [
    "import dash\n",
    "from dash import dcc, html\n",
    "import pandas as pd\n",
    "import plotly.express as px\n",
    "\n",
    "# Load dataset\n",
    "file_path = \"Hotel.csv\"  # Update with actual file path\n",
    "df = pd.read_csv(file_path)\n",
    "\n",
    "# Clean column names (strip spaces and lowercase)\n",
    "df.columns = df.columns.str.strip().str.lower()\n",
    "\n",
    "# Rename 'cost ' (fix extra space)\n",
    "df = df.rename(columns={\"cost \": \"cost\"})\n",
    "\n",
    "# Normalize column values (fix inconsistent casing)\n",
    "df[\"mode\"] = df[\"mode\"].str.strip().str.lower()\n",
    "df[\"mode\"] = df[\"mode\"].replace({\"cash\": \"Cash\", \"till\": \"Till\"})  # Standardize modes\n",
    "\n",
    "# Fix item names (Example: \"chapo\" and \"Chapo\" should be the same)\n",
    "df[\"item\"] = df[\"item\"].str.strip().str.capitalize()\n",
    "\n",
    "# Aggregate sales data\n",
    "top_selling = df.groupby(\"item\")[\"quantity\"].sum().reset_index().sort_values(by=\"quantity\", ascending=False).head(10)\n",
    "top_revenue = df.groupby(\"item\")[\"cost\"].sum().reset_index().sort_values(by=\"cost\", ascending=False).head(10)\n",
    "\n",
    "# Fix the payment mode counts dataframe\n",
    "payment_mode_counts = df[\"mode\"].value_counts().reset_index()\n",
    "payment_mode_counts.columns = [\"mode\", \"count\"]  # Rename columns properly\n",
    "\n",
    "# Initialize Dash app\n",
    "app = dash.Dash(__name__)\n",
    "\n",
    "# Layout of the dashboard\n",
    "app.layout = html.Div(children=[\n",
    "    html.H1(\"Hotel Sales Dashboard\", style={'textAlign': 'center'}),\n",
    "    \n",
    "    # Top 10 Best-Selling Products (Bar Chart)\n",
    "    dcc.Graph(id=\"top-selling-chart\",\n",
    "              figure=px.bar(top_selling, x=\"quantity\", y=\"item\", \n",
    "                            title=\"Top 10 Best-Selling Products\",\n",
    "                            labels={\"quantity\": \"Total Quantity Sold\", \"item\": \"Product\"},\n",
    "                            orientation=\"h\", template=\"plotly_dark\", color=\"item\")),\n",
    "    \n",
    "    # Top 10 Revenue-Generating Products (Bar Chart)\n",
    "    dcc.Graph(id=\"top-revenue-chart\",\n",
    "              figure=px.bar(top_revenue, x=\"cost\", y=\"item\", \n",
    "                            title=\"Top 10 Revenue-Generating Products\",\n",
    "                            labels={\"cost\": \"Total Revenue (Ksh)\", \"item\": \"Product\"},\n",
    "                            orientation=\"h\", template=\"plotly_dark\", color=\"item\")),\n",
    "    \n",
    "    # Payment Mode Distribution (Pie Chart) - FIXED\n",
    "    dcc.Graph(id=\"payment-mode-pie\",\n",
    "              figure=px.pie(payment_mode_counts, names=\"mode\", values=\"count\",\n",
    "                            title=\"Payment Mode Distribution\",\n",
    "                            color_discrete_sequence=px.colors.qualitative.Set2)),\n",
    "    \n",
    "    # Scatter Plot - Quantity vs Cost\n",
    "    dcc.Graph(id=\"scatter-quantity-cost\",\n",
    "              figure=px.scatter(df, x=\"quantity\", y=\"cost\", \n",
    "                                title=\"Relationship Between Quantity Sold & Cost\",\n",
    "                                labels={\"quantity\": \"Quantity Sold\", \"cost\": \"Total Cost (Ksh)\"},\n",
    "                                template=\"plotly_dark\", color=\"item\", size=\"quantity\")),\n",
    "])\n",
    "\n",
    "# Run the Dash app\n",
    "if __name__ == \"__main__\":\n",
    "    app.run_server(debug=True)\n"
   ]
  },
  {
   "cell_type": "code",
   "execution_count": null,
   "id": "8ff39cfe-951c-46cb-ac09-a01466d1805a",
   "metadata": {},
   "outputs": [],
   "source": []
  }
 ],
 "metadata": {
  "kernelspec": {
   "display_name": "Python [conda env:base] *",
   "language": "python",
   "name": "conda-base-py"
  },
  "language_info": {
   "codemirror_mode": {
    "name": "ipython",
    "version": 3
   },
   "file_extension": ".py",
   "mimetype": "text/x-python",
   "name": "python",
   "nbconvert_exporter": "python",
   "pygments_lexer": "ipython3",
   "version": "3.12.7"
  }
 },
 "nbformat": 4,
 "nbformat_minor": 5
}
